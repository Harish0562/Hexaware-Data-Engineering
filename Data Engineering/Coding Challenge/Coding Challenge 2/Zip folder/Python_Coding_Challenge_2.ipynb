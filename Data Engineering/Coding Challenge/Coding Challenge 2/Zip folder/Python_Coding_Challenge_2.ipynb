{
 "cells": [
  {
   "cell_type": "code",
   "execution_count": 1,
   "id": "e692d38b-7ef7-4145-8e75-c452154416af",
   "metadata": {},
   "outputs": [],
   "source": [
    "# Importing required libraries\n",
    "import pandas as pd\n",
    "import matplotlib.pyplot as plt\n",
    "import seaborn as sns"
   ]
  },
  {
   "cell_type": "code",
   "execution_count": 2,
   "id": "de9ef901-cee6-44b5-85ad-292ec3ff5387",
   "metadata": {},
   "outputs": [],
   "source": [
    "# Load the dataset\n",
    "file_path = \"C:/Users/91776/OneDrive/Desktop/Hexaware/Data Engineering/Coding Challenge 2/annual-enterprise-survey-2023-financial-year-provisional.csv\"\n",
    "data = pd.read_csv(file_path)"
   ]
  },
  {
   "cell_type": "code",
   "execution_count": 3,
   "id": "02355193-c544-4b73-9775-396604648ccc",
   "metadata": {},
   "outputs": [
    {
     "name": "stdout",
     "output_type": "stream",
     "text": [
      "Question 1: First few rows of the data:\n",
      "   Year Industry_aggregation_NZSIOC Industry_code_NZSIOC Industry_name_NZSIOC  \\\n",
      "0  2023                     Level 1                99999       All industries   \n",
      "1  2023                     Level 1                99999       All industries   \n",
      "2  2023                     Level 1                99999       All industries   \n",
      "3  2023                     Level 1                99999       All industries   \n",
      "4  2023                     Level 1                99999       All industries   \n",
      "\n",
      "                Units Variable_code  \\\n",
      "0  Dollars (millions)           H01   \n",
      "1  Dollars (millions)           H04   \n",
      "2  Dollars (millions)           H05   \n",
      "3  Dollars (millions)           H07   \n",
      "4  Dollars (millions)           H08   \n",
      "\n",
      "                                     Variable_name      Variable_category  \\\n",
      "0                                     Total income  Financial performance   \n",
      "1  Sales, government funding, grants and subsidies  Financial performance   \n",
      "2                Interest, dividends and donations  Financial performance   \n",
      "3                             Non-operating income  Financial performance   \n",
      "4                                Total expenditure  Financial performance   \n",
      "\n",
      "    Value                             Industry_code_ANZSIC06  \n",
      "0  930995  ANZSIC06 divisions A-S (excluding classes K633...  \n",
      "1  821630  ANZSIC06 divisions A-S (excluding classes K633...  \n",
      "2   84354  ANZSIC06 divisions A-S (excluding classes K633...  \n",
      "3   25010  ANZSIC06 divisions A-S (excluding classes K633...  \n",
      "4  832964  ANZSIC06 divisions A-S (excluding classes K633...  \n"
     ]
    }
   ],
   "source": [
    "# 1: Printing rows of the data\n",
    "print(\"Question 1: First few rows of the data:\")\n",
    "print(data.head())"
   ]
  },
  {
   "cell_type": "code",
   "execution_count": 4,
   "id": "6b03ce56-6c82-4c0b-9ee3-9bcfb3780fe5",
   "metadata": {},
   "outputs": [
    {
     "name": "stdout",
     "output_type": "stream",
     "text": [
      "\n",
      "Question 2: Column names of the DataFrame:\n",
      "['Year', 'Industry_aggregation_NZSIOC', 'Industry_code_NZSIOC', 'Industry_name_NZSIOC', 'Units', 'Variable_code', 'Variable_name', 'Variable_category', 'Value', 'Industry_code_ANZSIC06']\n"
     ]
    }
   ],
   "source": [
    "# 2: Printing column names of the DataFrame\n",
    "print(\"\\nQuestion 2: Column names of the DataFrame:\")\n",
    "print(data.columns.tolist())"
   ]
  },
  {
   "cell_type": "code",
   "execution_count": 5,
   "id": "a10116cd-54c2-44a6-aea5-5dcde7d90aee",
   "metadata": {},
   "outputs": [
    {
     "name": "stdout",
     "output_type": "stream",
     "text": [
      "\n",
      "Question 3: Summary of the DataFrame:\n",
      "<class 'pandas.core.frame.DataFrame'>\n",
      "RangeIndex: 50985 entries, 0 to 50984\n",
      "Data columns (total 10 columns):\n",
      " #   Column                       Non-Null Count  Dtype \n",
      "---  ------                       --------------  ----- \n",
      " 0   Year                         50985 non-null  int64 \n",
      " 1   Industry_aggregation_NZSIOC  50985 non-null  object\n",
      " 2   Industry_code_NZSIOC         50985 non-null  object\n",
      " 3   Industry_name_NZSIOC         50985 non-null  object\n",
      " 4   Units                        50985 non-null  object\n",
      " 5   Variable_code                50985 non-null  object\n",
      " 6   Variable_name                50985 non-null  object\n",
      " 7   Variable_category            50985 non-null  object\n",
      " 8   Value                        50985 non-null  object\n",
      " 9   Industry_code_ANZSIC06       50985 non-null  object\n",
      "dtypes: int64(1), object(9)\n",
      "memory usage: 3.9+ MB\n",
      "None\n"
     ]
    }
   ],
   "source": [
    "# 3: Summary of DataFrame\n",
    "print(\"\\nQuestion 3: Summary of the DataFrame:\")\n",
    "print(data.info())"
   ]
  },
  {
   "cell_type": "code",
   "execution_count": 6,
   "id": "b824a178-e6d0-40b0-abbf-931c39a39214",
   "metadata": {},
   "outputs": [
    {
     "name": "stdout",
     "output_type": "stream",
     "text": [
      "\n",
      "Question 4: Descriptive Statistics:\n",
      "               Year\n",
      "count  50985.000000\n",
      "mean    2018.000000\n",
      "std        3.162309\n",
      "min     2013.000000\n",
      "25%     2015.000000\n",
      "50%     2018.000000\n",
      "75%     2021.000000\n",
      "max     2023.000000\n"
     ]
    }
   ],
   "source": [
    "# 4: Descriptive Statistical Measures of a DataFrame\n",
    "print(\"\\nQuestion 4: Descriptive Statistics:\")\n",
    "print(data.describe())"
   ]
  },
  {
   "cell_type": "code",
   "execution_count": 7,
   "id": "2a4c5d54-a859-4f67-8593-b05ad3ee4b68",
   "metadata": {},
   "outputs": [
    {
     "name": "stdout",
     "output_type": "stream",
     "text": [
      "\n",
      "Question 5: Missing Data:\n",
      "Year                           0\n",
      "Industry_aggregation_NZSIOC    0\n",
      "Industry_code_NZSIOC           0\n",
      "Industry_name_NZSIOC           0\n",
      "Units                          0\n",
      "Variable_code                  0\n",
      "Variable_name                  0\n",
      "Variable_category              0\n",
      "Value                          0\n",
      "Industry_code_ANZSIC06         0\n",
      "dtype: int64\n"
     ]
    }
   ],
   "source": [
    "# 5: Missing Data Handling\n",
    "print(\"\\nQuestion 5: Missing Data:\")\n",
    "missing_data = data.isnull().sum()\n",
    "print(missing_data)"
   ]
  },
  {
   "cell_type": "code",
   "execution_count": 8,
   "id": "ff98ce69-f64c-4eb7-bf43-69cb64381b8b",
   "metadata": {},
   "outputs": [
    {
     "name": "stdout",
     "output_type": "stream",
     "text": [
      "\n",
      "Missing values filled with mean (numerical columns):\n",
      "   Year Industry_aggregation_NZSIOC Industry_code_NZSIOC Industry_name_NZSIOC  \\\n",
      "0  2023                     Level 1                99999       All industries   \n",
      "1  2023                     Level 1                99999       All industries   \n",
      "2  2023                     Level 1                99999       All industries   \n",
      "3  2023                     Level 1                99999       All industries   \n",
      "4  2023                     Level 1                99999       All industries   \n",
      "\n",
      "                Units Variable_code  \\\n",
      "0  Dollars (millions)           H01   \n",
      "1  Dollars (millions)           H04   \n",
      "2  Dollars (millions)           H05   \n",
      "3  Dollars (millions)           H07   \n",
      "4  Dollars (millions)           H08   \n",
      "\n",
      "                                     Variable_name      Variable_category  \\\n",
      "0                                     Total income  Financial performance   \n",
      "1  Sales, government funding, grants and subsidies  Financial performance   \n",
      "2                Interest, dividends and donations  Financial performance   \n",
      "3                             Non-operating income  Financial performance   \n",
      "4                                Total expenditure  Financial performance   \n",
      "\n",
      "    Value                             Industry_code_ANZSIC06  \n",
      "0  930995  ANZSIC06 divisions A-S (excluding classes K633...  \n",
      "1  821630  ANZSIC06 divisions A-S (excluding classes K633...  \n",
      "2   84354  ANZSIC06 divisions A-S (excluding classes K633...  \n",
      "3   25010  ANZSIC06 divisions A-S (excluding classes K633...  \n",
      "4  832964  ANZSIC06 divisions A-S (excluding classes K633...  \n"
     ]
    }
   ],
   "source": [
    "# Fill missing values with the mean for numerical columns\n",
    "data_filled = data.fillna(data.mean(numeric_only=True))\n",
    "print(\"\\nMissing values filled with mean (numerical columns):\")\n",
    "print(data_filled.head())"
   ]
  },
  {
   "cell_type": "code",
   "execution_count": 9,
   "id": "95fe5165-f29e-4a20-8e73-c886de4f3f25",
   "metadata": {},
   "outputs": [
    {
     "name": "stdout",
     "output_type": "stream",
     "text": [
      "\n",
      "Step 6: Data sorted by column 'Year':\n",
      "       Year Industry_aggregation_NZSIOC Industry_code_NZSIOC  \\\n",
      "50867  2013                     Level 4                RS211   \n",
      "50868  2013                     Level 4                RS211   \n",
      "50869  2013                     Level 4                RS211   \n",
      "50948  2013                     Level 4                RS214   \n",
      "50949  2013                     Level 3                 ZZ11   \n",
      "\n",
      "                                Industry_name_NZSIOC               Units  \\\n",
      "50867                         Repair and Maintenance  Dollars (millions)   \n",
      "50868                         Repair and Maintenance  Dollars (millions)   \n",
      "50869                         Repair and Maintenance  Dollars (millions)   \n",
      "50948  Civil, Professional and Other Interest Groups          Percentage   \n",
      "50949                     Food product manufacturing  Dollars (millions)   \n",
      "\n",
      "      Variable_code              Variable_name      Variable_category   Value  \\\n",
      "50867           H23  Surplus before income tax  Financial performance     308   \n",
      "50868           H24               Total assets     Financial position   2,015   \n",
      "50869           H25             Current assets     Financial position   1,052   \n",
      "50948           H41      Liabilities structure       Financial ratios      88   \n",
      "50949           H01               Total income  Financial performance  36,411   \n",
      "\n",
      "                                  Industry_code_ANZSIC06  \n",
      "50867               ANZSIC06 groups S941, S942, and S949  \n",
      "50868               ANZSIC06 groups S941, S942, and S949  \n",
      "50869               ANZSIC06 groups S941, S942, and S949  \n",
      "50948                                ANZSIC06 group S955  \n",
      "50949  ANZSIC06 groups C111, C112, C113, C114, C115, ...  \n"
     ]
    }
   ],
   "source": [
    "# 6: Sorting DataFrame values\n",
    "# Sorting by the first numerical column\n",
    "numerical_columns = data.select_dtypes(include='number').columns\n",
    "if not numerical_columns.empty:\n",
    "    numerical_column = numerical_columns[0]\n",
    "    sorted_data = data.sort_values(by=numerical_column)\n",
    "    print(f\"\\nStep 6: Data sorted by column '{numerical_column}':\")\n",
    "    print(sorted_data.head())\n",
    "else:\n",
    "    print(\"\\nQuestion 6: No numerical columns to sort.\")"
   ]
  },
  {
   "cell_type": "code",
   "execution_count": 10,
   "id": "ea5fd644-eedb-4f83-92ea-d6e22bb28b9e",
   "metadata": {},
   "outputs": [
    {
     "name": "stdout",
     "output_type": "stream",
     "text": [
      "\n",
      "Question 7: Merged DataFrame:\n",
      "     Year Industry_aggregation_NZSIOC Industry_code_NZSIOC  \\\n",
      "0.0  2023                     Level 1                99999   \n",
      "1.0  2023                     Level 1                99999   \n",
      "2.0  2023                     Level 1                99999   \n",
      "3.0  2023                     Level 1                99999   \n",
      "4.0  2023                     Level 1                99999   \n",
      "\n",
      "    Industry_name_NZSIOC               Units Variable_code  \\\n",
      "0.0       All industries  Dollars (millions)           H01   \n",
      "1.0       All industries  Dollars (millions)           H04   \n",
      "2.0       All industries  Dollars (millions)           H05   \n",
      "3.0       All industries  Dollars (millions)           H07   \n",
      "4.0       All industries  Dollars (millions)           H08   \n",
      "\n",
      "                                       Variable_name      Variable_category  \\\n",
      "0.0                                     Total income  Financial performance   \n",
      "1.0  Sales, government funding, grants and subsidies  Financial performance   \n",
      "2.0                Interest, dividends and donations  Financial performance   \n",
      "3.0                             Non-operating income  Financial performance   \n",
      "4.0                                Total expenditure  Financial performance   \n",
      "\n",
      "      Value                             Industry_code_ANZSIC06  Merge_Key  \\\n",
      "0.0  930995  ANZSIC06 divisions A-S (excluding classes K633...          0   \n",
      "1.0  821630  ANZSIC06 divisions A-S (excluding classes K633...          1   \n",
      "2.0   84354  ANZSIC06 divisions A-S (excluding classes K633...          2   \n",
      "3.0   25010  ANZSIC06 divisions A-S (excluding classes K633...          3   \n",
      "4.0  832964  ANZSIC06 divisions A-S (excluding classes K633...          4   \n",
      "\n",
      "    New_Column  \n",
      "0.0          A  \n",
      "1.0          B  \n",
      "2.0          C  \n",
      "3.0          D  \n",
      "4.0          E  \n"
     ]
    }
   ],
   "source": [
    "# 7: Merging DataFrames\n",
    "# Creating a second DataFrame for demonstration\n",
    "df_example = pd.DataFrame({\n",
    "    'Merge_Key': data.index[:5],  # Example keys from index\n",
    "    'New_Column': ['A', 'B', 'C', 'D', 'E']\n",
    "})\n",
    "data_merged = data.merge(df_example, left_index=True, right_on='Merge_Key', how='left')\n",
    "print(\"\\nQuestion 7: Merged DataFrame:\")\n",
    "print(data_merged.head())"
   ]
  },
  {
   "cell_type": "code",
   "execution_count": 11,
   "id": "27e078c9-b1eb-4078-be45-bce3b6c748d1",
   "metadata": {},
   "outputs": [
    {
     "name": "stdout",
     "output_type": "stream",
     "text": [
      "\n",
      "Step 8: Data after applying function on column 'Industry_aggregation_NZSIOC':\n",
      "   Year Industry_aggregation_NZSIOC Industry_code_NZSIOC Industry_name_NZSIOC  \\\n",
      "0  2023                     LEVEL 1                99999       All industries   \n",
      "1  2023                     LEVEL 1                99999       All industries   \n",
      "2  2023                     LEVEL 1                99999       All industries   \n",
      "3  2023                     LEVEL 1                99999       All industries   \n",
      "4  2023                     LEVEL 1                99999       All industries   \n",
      "\n",
      "                Units Variable_code  \\\n",
      "0  Dollars (millions)           H01   \n",
      "1  Dollars (millions)           H04   \n",
      "2  Dollars (millions)           H05   \n",
      "3  Dollars (millions)           H07   \n",
      "4  Dollars (millions)           H08   \n",
      "\n",
      "                                     Variable_name      Variable_category  \\\n",
      "0                                     Total income  Financial performance   \n",
      "1  Sales, government funding, grants and subsidies  Financial performance   \n",
      "2                Interest, dividends and donations  Financial performance   \n",
      "3                             Non-operating income  Financial performance   \n",
      "4                                Total expenditure  Financial performance   \n",
      "\n",
      "    Value                             Industry_code_ANZSIC06  \n",
      "0  930995  ANZSIC06 divisions A-S (excluding classes K633...  \n",
      "1  821630  ANZSIC06 divisions A-S (excluding classes K633...  \n",
      "2   84354  ANZSIC06 divisions A-S (excluding classes K633...  \n",
      "3   25010  ANZSIC06 divisions A-S (excluding classes K633...  \n",
      "4  832964  ANZSIC06 divisions A-S (excluding classes K633...  \n"
     ]
    }
   ],
   "source": [
    "# 8: Apply Function\n",
    "# Convert a column to uppercase for demonstration\n",
    "string_columns = data.select_dtypes(include='object').columns\n",
    "if not string_columns.empty:\n",
    "    string_column = string_columns[0]\n",
    "    data[string_column] = data[string_column].apply(lambda x: x.upper() if isinstance(x, str) else x)\n",
    "    print(f\"\\nStep 8: Data after applying function on column '{string_column}':\")\n",
    "    print(data.head())\n",
    "else:\n",
    "    print(\"\\nQuestion 8: No string columns for applying a function.\")"
   ]
  },
  {
   "cell_type": "code",
   "execution_count": 12,
   "id": "8d36fe06-6bac-491b-9aa9-006dbd260158",
   "metadata": {},
   "outputs": [
    {
     "name": "stdout",
     "output_type": "stream",
     "text": [
      "\n",
      "Step 9: New column with values increased by 10 from column 'Year':\n",
      "   Year  Year_plus_10\n",
      "0  2023          2033\n",
      "1  2023          2033\n",
      "2  2023          2033\n",
      "3  2023          2033\n",
      "4  2023          2033\n"
     ]
    }
   ],
   "source": [
    "# 9: By using the lambda operator\n",
    "# Adding 10 to the first numerical column\n",
    "if not numerical_columns.empty:\n",
    "    data[f\"{numerical_column}_plus_10\"] = data[numerical_column].apply(lambda x: x + 10)\n",
    "    print(f\"\\nStep 9: New column with values increased by 10 from column '{numerical_column}':\")\n",
    "    print(data[[numerical_column, f\"{numerical_column}_plus_10\"]].head())\n",
    "else:\n",
    "    print(\"\\nQuestion 9: No numerical columns to apply lambda.\")"
   ]
  },
  {
   "cell_type": "code",
   "execution_count": 13,
   "id": "04a5646b-7a5e-4be5-9953-b4e55dc4dbbf",
   "metadata": {},
   "outputs": [
    {
     "data": {
      "image/png": "[encoded data removed]",
      "text/plain": [
       "<Figure size 1000x600 with 1 Axes>"
      ]
     },
     "metadata": {},
     "output_type": "display_data"
    }
   ],
   "source": [
    "# 10: Visualizing DataFrame\n",
    "# Bar plot for the first numerical column\n",
    "if not numerical_columns.empty:\n",
    "    plt.figure(figsize=(10, 6))\n",
    "    sns.histplot(data[numerical_column], kde=True, bins=20)\n",
    "    plt.title('Distribution of the First Numerical Column')\n",
    "    plt.xlabel(numerical_column)\n",
    "    plt.ylabel('Frequency')\n",
    "    plt.show()\n",
    "else:\n",
    "    print(\"\\nQuestion 10: No numerical columns for visualization.\")"
   ]
  },
  {
   "cell_type": "code",
   "execution_count": 14,
   "id": "a0260058-2f1e-411a-9660-38ac8953d050",
   "metadata": {},
   "outputs": [
    {
     "name": "stdout",
     "output_type": "stream",
     "text": [
      "Question 11: The number of columns in the dataset is: 11\n"
     ]
    }
   ],
   "source": [
    "# 11: Find the number of columns in the dataset\n",
    "num_columns = len(data.columns)\n",
    "print(f\"Question 11: The number of columns in the dataset is: {num_columns}\")"
   ]
  },
  {
   "cell_type": "code",
   "execution_count": null,
   "id": "a0730a5c-feef-445f-ba3d-ab079ca9273e",
   "metadata": {},
   "outputs": [],
   "source": []
  }
 ],
 "metadata": {
  "kernelspec": {
   "display_name": "Python 3 (ipykernel)",
   "language": "python",
   "name": "python3"
  },
  "language_info": {
   "codemirror_mode": {
    "name": "ipython",
    "version": 3
   },
   "file_extension": ".py",
   "mimetype": "text/x-python",
   "name": "python",
   "nbconvert_exporter": "python",
   "pygments_lexer": "ipython3",
   "version": "3.12.1"
  }
 },
 "nbformat": 4,
 "nbformat_minor": 5
}
