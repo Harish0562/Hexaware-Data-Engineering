{
 "cells": [
  {
   "cell_type": "code",
   "execution_count": 0,
   "metadata": {
    "application/vnd.databricks.v1+cell": {
     "cellMetadata": {
      "byteLimit": 2048000,
      "rowLimit": 10000
     },
     "inputWidgets": {},
     "nuid": "32aa6455-b941-49c6-b17f-6fad308844c1",
     "showTitle": false,
     "tableResultSettingsMap": {},
     "title": ""
    }
   },
   "outputs": [
    {
     "output_type": "stream",
     "name": "stdout",
     "output_type": "stream",
     "text": [
      "+-----------+---+------+------------+--------------+-----------+------+-----------+-------------+-------------+-----------+-------+------------+----------------+------------------+\n|Customer_ID|Age|Gender|  Occupation|Marital Status|Family Size|Income|Expenditure|Use Frequency|Loan Category|Loan Amount|Overdue| Debt Record| Returned Cheque| Dishonour of Bill|\n+-----------+---+------+------------+--------------+-----------+------+-----------+-------------+-------------+-----------+-------+------------+----------------+------------------+\n|    IB14001| 30|  MALE|BANK MANAGER|        SINGLE|          4| 50000|      22199|            6|      HOUSING| 10,00,000 |      5|      42,898|               6|                 9|\n|    IB14008| 44|  MALE|   PROFESSOR|       MARRIED|          6| 51000|      19999|            4|     SHOPPING|     50,000|      3|      33,999|               1|                 5|\n|    IB14012| 30|FEMALE|     DENTIST|        SINGLE|          3| 58450|      27675|            5|   TRAVELLING|     75,000|      6|      20,876|               3|                 1|\n|    IB14018| 29|  MALE|     TEACHER|       MARRIED|          5| 45767|      12787|            3|    GOLD LOAN|  6,00,000 |      7|      11,000|               0|                 4|\n|    IB14022| 34|  MALE|      POLICE|        SINGLE|          4| 43521|      11999|            3|   AUTOMOBILE|  2,00,000 |      2|      43,898|               1|                 2|\n+-----------+---+------+------------+--------------+-----------+------+-----------+-------------+-------------+-----------+-------+------------+----------------+------------------+\nonly showing top 5 rows\n\n"
     ]
    }
   ],
   "source": [
    "from pyspark.sql import SparkSession\n",
    "\n",
    "# Initialize Spark Session\n",
    "spark = SparkSession.builder.appName(\"Local File Loading\").getOrCreate()\n",
    "\n",
    "\n",
    "loan_df = spark.read.csv(\"/FileStore/tables/loan.csv\", header=True, inferSchema=True)\n",
    "\n",
    "loan_df.show(5)\n"
   ]
  },
  {
   "cell_type": "code",
   "execution_count": 0,
   "metadata": {
    "application/vnd.databricks.v1+cell": {
     "cellMetadata": {
      "byteLimit": 2048000,
      "rowLimit": 10000
     },
     "inputWidgets": {},
     "nuid": "68f64df9-5229-42c3-ad43-da79656c5b54",
     "showTitle": false,
     "tableResultSettingsMap": {},
     "title": ""
    }
   },
   "outputs": [
    {
     "output_type": "stream",
     "name": "stdout",
     "output_type": "stream",
     "text": [
      "+-----------+---+------+-----------------+--------------+-----------+------+-----------+-------------+-------------+-----------+-------+------------+----------------+------------------+\n|Customer_ID|Age|Gender|       Occupation|Marital Status|Family Size|Income|Expenditure|Use Frequency|Loan Category|Loan Amount|Overdue| Debt Record| Returned Cheque| Dishonour of Bill|\n+-----------+---+------+-----------------+--------------+-----------+------+-----------+-------------+-------------+-----------+-------+------------+----------------+------------------+\n|    IB14012| 30|FEMALE|          DENTIST|        SINGLE|          3| 58450|      27675|            5|   TRAVELLING|     75,000|      6|      20,876|               3|                 1|\n|    IB14032| 24|  MALE|     DATA ANALYST|        SINGLE|          4| 60111|      28999|            6|   AUTOMOBILE|     35,232|      5|      33,333|               1|                 2|\n|    IB14042| 25|FEMALE|           DOCTOR|        SINGLE|          4| 60111|      27111|            5|   TRAVELLING| 12,90,929 |      4|      18,000|               1|                 0|\n|    IB14089| 25|  MALE|        PROFESSOR|        SINGLE|          5| 62145|      31254|            4|  BOOK STORES| 12,45,789 |      6|      48,596|               6|                 5|\n|    IBI4155| 24|FEMALE|SOFTWARE ENGINEER|        SINGLE|          4| 55680|      29000|            5|   AUTOMOBILE|  7,89,000 |      5|      24,000|               6|                 4|\n+-----------+---+------+-----------------+--------------+-----------+------+-----------+-------------+-------------+-----------+-------+------------+----------------+------------------+\nonly showing top 5 rows\n\n"
     ]
    }
   ],
   "source": [
    "# Filter: Customers with income greater than 50,000 and single marital status\n",
    "filtered_df = loan_df.filter((loan_df[\"Income\"] > 50000) & (loan_df[\"Marital Status\"] == \"SINGLE\"))\n",
    "filtered_df.show(5)\n"
   ]
  },
  {
   "cell_type": "code",
   "execution_count": 0,
   "metadata": {
    "application/vnd.databricks.v1+cell": {
     "cellMetadata": {
      "byteLimit": 2048000,
      "rowLimit": 10000
     },
     "inputWidgets": {},
     "nuid": "1959cdd3-b56f-4573-902d-c6609b6f790b",
     "showTitle": false,
     "tableResultSettingsMap": {},
     "title": ""
    }
   },
   "outputs": [
    {
     "output_type": "stream",
     "name": "stdout",
     "output_type": "stream",
     "text": [
      "+-----------+---+------+------------+--------------+-----------+------+-----------+-------------+-------------+-----------+-------+------------+----------------+------------------+----+\n|Customer_ID|Age|Gender|  Occupation|Marital Status|Family Size|Income|Expenditure|Use Frequency|Loan Category|Loan Amount|Overdue| Debt Record| Returned Cheque| Dishonour of Bill|Area|\n+-----------+---+------+------------+--------------+-----------+------+-----------+-------------+-------------+-----------+-------+------------+----------------+------------------+----+\n|    IB14001| 30|  MALE|BANK MANAGER|        SINGLE|          4| 50000|      22199|            6|      HOUSING| 10,00,000 |      5|      42,898|               6|                 9|null|\n|    IB14008| 44|  MALE|   PROFESSOR|       MARRIED|          6| 51000|      19999|            4|     SHOPPING|     50,000|      3|      33,999|               1|                 5|null|\n|    IB14012| 30|FEMALE|     DENTIST|        SINGLE|          3| 58450|      27675|            5|   TRAVELLING|     75,000|      6|      20,876|               3|                 1|null|\n|    IB14018| 29|  MALE|     TEACHER|       MARRIED|          5| 45767|      12787|            3|    GOLD LOAN|  6,00,000 |      7|      11,000|               0|                 4|null|\n|    IB14022| 34|  MALE|      POLICE|        SINGLE|          4| 43521|      11999|            3|   AUTOMOBILE|  2,00,000 |      2|      43,898|               1|                 2|null|\n+-----------+---+------+------------+--------------+-----------+------+-----------+-------------+-------------+-----------+-------+------------+----------------+------------------+----+\nonly showing top 5 rows\n\n"
     ]
    }
   ],
   "source": [
    "# Example second dataset\n",
    "demographics = [(1, \"Urban\"), (2, \"Rural\"), (3, \"Urban\")]\n",
    "columns = [\"Customer_ID\", \"Area\"]\n",
    "\n",
    "# Convert to PySpark DataFrame\n",
    "demographics_df = spark.createDataFrame(demographics, columns)\n",
    "\n",
    "\n",
    "# Full outer join: All rows from both DataFrames, with nulls for non-matches\n",
    "outer_joined = loan_df.join(demographics_df, \"Customer_ID\", \"outer\")\n",
    "outer_joined.show(5)\n"
   ]
  },
  {
   "cell_type": "code",
   "execution_count": 0,
   "metadata": {
    "application/vnd.databricks.v1+cell": {
     "cellMetadata": {
      "byteLimit": 2048000,
      "rowLimit": 10000
     },
     "inputWidgets": {},
     "nuid": "2e9a9691-96d9-4656-89ba-fe071215abf3",
     "showTitle": false,
     "tableResultSettingsMap": {},
     "title": ""
    }
   },
   "outputs": [
    {
     "output_type": "stream",
     "name": "stdout",
     "output_type": "stream",
     "text": [
      "Out[15]: 6"
     ]
    }
   ],
   "source": [
    "# Total loan amount\n",
    "loan_df.filter(loan_df[\"Expenditure\"] > 50000).count()"
   ]
  },
  {
   "cell_type": "code",
   "execution_count": 0,
   "metadata": {
    "application/vnd.databricks.v1+cell": {
     "cellMetadata": {
      "byteLimit": 2048000,
      "rowLimit": 10000
     },
     "inputWidgets": {},
     "nuid": "c3165242-086f-4130-aca1-a35d7c5cec92",
     "showTitle": false,
     "tableResultSettingsMap": {},
     "title": ""
    }
   },
   "outputs": [
    {
     "output_type": "stream",
     "name": "stdout",
     "output_type": "stream",
     "text": [
      "+-------------+------------------+\n|Loan Category|       avg(Income)|\n+-------------+------------------+\n|      HOUSING| 74728.19354838709|\n|   TRAVELLING| 57016.58490566038|\n|  BOOK STORES|50903.142857142855|\n|  AGRICULTURE|60372.666666666664|\n|    GOLD LOAN| 70838.31506849315|\n+-------------+------------------+\nonly showing top 5 rows\n\n"
     ]
    }
   ],
   "source": [
    "grouped_df = loan_df.groupBy(\"Loan Category\").avg(\"Income\")\n",
    "grouped_df.show(5)\n"
   ]
  },
  {
   "cell_type": "code",
   "execution_count": 0,
   "metadata": {
    "application/vnd.databricks.v1+cell": {
     "cellMetadata": {
      "byteLimit": 2048000,
      "rowLimit": 10000
     },
     "inputWidgets": {},
     "nuid": "2b74cfd1-bec6-48ce-b4ad-ff71bc6d00ed",
     "showTitle": false,
     "tableResultSettingsMap": {},
     "title": ""
    }
   },
   "outputs": [
    {
     "output_type": "stream",
     "name": "stdout",
     "output_type": "stream",
     "text": [
      "+-----------+---+------+-----------------+--------------+-----------+------+-----------+-------------+-------------+-----------+-------+------------+----------------+------------------+\n|Customer_ID|Age|Gender|       Occupation|Marital Status|Family Size|Income|Expenditure|Use Frequency|Loan Category|Loan Amount|Overdue| Debt Record| Returned Cheque| Dishonour of Bill|\n+-----------+---+------+-----------------+--------------+-----------+------+-----------+-------------+-------------+-----------+-------+------------+----------------+------------------+\n|    IB14012| 30|FEMALE|          DENTIST|        SINGLE|          3| 58450|      27675|            5|   TRAVELLING|     75,000|      6|      20,876|               3|                 1|\n|    IB14032| 24|  MALE|     DATA ANALYST|        SINGLE|          4| 60111|      28999|            6|   AUTOMOBILE|     35,232|      5|      33,333|               1|                 2|\n|    IB14042| 25|FEMALE|           DOCTOR|        SINGLE|          4| 60111|      27111|            5|   TRAVELLING| 12,90,929 |      4|      18,000|               1|                 0|\n|    IB14089| 25|  MALE|        PROFESSOR|        SINGLE|          5| 62145|      31254|            4|  BOOK STORES| 12,45,789 |      6|      48,596|               6|                 5|\n|    IBI4155| 24|FEMALE|SOFTWARE ENGINEER|        SINGLE|          4| 55680|      29000|            5|   AUTOMOBILE|  7,89,000 |      5|      24,000|               6|                 4|\n+-----------+---+------+-----------------+--------------+-----------+------+-----------+-------------+-------------+-----------+-------+------------+----------------+------------------+\nonly showing top 5 rows\n\n"
     ]
    }
   ],
   "source": [
    "loan_df.createOrReplaceTempView(\"loan_data\")\n",
    "filtered_sql = spark.sql(\"\"\"\n",
    "    SELECT * \n",
    "    FROM loan_data \n",
    "    WHERE Income > 50000 AND `Marital Status` = 'SINGLE'\n",
    "\"\"\")\n",
    "filtered_sql.show(5)\n"
   ]
  },
  {
   "cell_type": "code",
   "execution_count": 0,
   "metadata": {
    "application/vnd.databricks.v1+cell": {
     "cellMetadata": {
      "byteLimit": 2048000,
      "rowLimit": 10000
     },
     "inputWidgets": {},
     "nuid": "8c6f0ed9-6d2e-45d8-b80a-6f8fc8d04248",
     "showTitle": false,
     "tableResultSettingsMap": {},
     "title": ""
    }
   },
   "outputs": [
    {
     "output_type": "stream",
     "name": "stdout",
     "output_type": "stream",
     "text": [
      "+-----------+---+------+------------+--------------+-----------+------+-----------+-------------+-------------+-----------+-------+------------+----------------+------------------+----+\n|Customer_ID|Age|Gender|  Occupation|Marital Status|Family Size|Income|Expenditure|Use Frequency|Loan Category|Loan Amount|Overdue| Debt Record| Returned Cheque| Dishonour of Bill|Area|\n+-----------+---+------+------------+--------------+-----------+------+-----------+-------------+-------------+-----------+-------+------------+----------------+------------------+----+\n|    IB14001| 30|  MALE|BANK MANAGER|        SINGLE|          4| 50000|      22199|            6|      HOUSING| 10,00,000 |      5|      42,898|               6|                 9|null|\n|    IB14008| 44|  MALE|   PROFESSOR|       MARRIED|          6| 51000|      19999|            4|     SHOPPING|     50,000|      3|      33,999|               1|                 5|null|\n|    IB14012| 30|FEMALE|     DENTIST|        SINGLE|          3| 58450|      27675|            5|   TRAVELLING|     75,000|      6|      20,876|               3|                 1|null|\n|    IB14018| 29|  MALE|     TEACHER|       MARRIED|          5| 45767|      12787|            3|    GOLD LOAN|  6,00,000 |      7|      11,000|               0|                 4|null|\n|    IB14022| 34|  MALE|      POLICE|        SINGLE|          4| 43521|      11999|            3|   AUTOMOBILE|  2,00,000 |      2|      43,898|               1|                 2|null|\n+-----------+---+------+------------+--------------+-----------+------+-----------+-------------+-------------+-----------+-------+------------+----------------+------------------+----+\nonly showing top 5 rows\n\n"
     ]
    }
   ],
   "source": [
    "demographics_df.createOrReplaceTempView(\"demographics\")\n",
    "outer_sql = spark.sql(\"\"\"\n",
    "    SELECT l.*, d.Area\n",
    "    FROM loan_data l\n",
    "    FULL OUTER JOIN demographics d\n",
    "    ON l.Customer_ID = d.Customer_ID\n",
    "\"\"\")\n",
    "outer_sql.show(5)"
   ]
  },
  {
   "cell_type": "code",
   "execution_count": 0,
   "metadata": {
    "application/vnd.databricks.v1+cell": {
     "cellMetadata": {
      "byteLimit": 2048000,
      "rowLimit": 10000
     },
     "inputWidgets": {},
     "nuid": "6a91f27c-5944-4404-bb32-0d8c33b6bca4",
     "showTitle": false,
     "tableResultSettingsMap": {},
     "title": ""
    }
   },
   "outputs": [
    {
     "output_type": "stream",
     "name": "stdout",
     "output_type": "stream",
     "text": [
      "+-----------------+\n|Total_Loan_Amount|\n+-----------------+\n|         13243460|\n+-----------------+\n\n"
     ]
    }
   ],
   "source": [
    "aggregation_sql = spark.sql(\"\"\"\n",
    "    SELECT SUM(`Expenditure`) AS Total_Loan_Amount\n",
    "    FROM loan_data\n",
    "\"\"\")\n",
    "aggregation_sql.show()\n"
   ]
  },
  {
   "cell_type": "code",
   "execution_count": 0,
   "metadata": {
    "application/vnd.databricks.v1+cell": {
     "cellMetadata": {
      "byteLimit": 2048000,
      "rowLimit": 10000
     },
     "inputWidgets": {},
     "nuid": "4b6320ce-d09b-4aba-9e06-3d8f547f0e1d",
     "showTitle": false,
     "tableResultSettingsMap": {},
     "title": ""
    }
   },
   "outputs": [
    {
     "output_type": "stream",
     "name": "stdout",
     "output_type": "stream",
     "text": [
      "+------+-----------------+\n|Gender|       Avg_Income|\n+------+-----------------+\n|FEMALE|76242.93779904307|\n|  MALE|61961.80694980695|\n+------+-----------------+\n\n"
     ]
    }
   ],
   "source": [
    "# grouped_sql = spark.sql(\"\"\"\n",
    "#     SELECT `Loan Category`, AVG(`Income`) AS Avg_Income\n",
    "#     FROM loan_data\n",
    "#     GROUP BY `Loan Category`\n",
    "# \"\"\")\n",
    "# grouped_sql.show()\n",
    "from pyspark.sql import SparkSession\n",
    "\n",
    "# Initialize Spark Session\n",
    "spark = SparkSession.builder.appName(\"Local File Loading\").getOrCreate()\n",
    "\n",
    "\n",
    "loan_df = spark.read.csv(\"/FileStore/tables/loan.csv\", header=True, inferSchema=True)\n",
    "\n",
    "loan_df.createOrReplaceTempView(\"loan_data\")\n",
    "average_loan_by_gender_sql = spark.sql(\"\"\"\n",
    "    SELECT Gender, AVG(`Income`) AS Avg_Income\n",
    "    FROM loan_data\n",
    "    GROUP BY Gender\n",
    "    ORDER BY Avg_Income DESC\n",
    "\"\"\")\n",
    "average_loan_by_gender_sql.show()\n"
   ]
  }
 ],
 "metadata": {
  "application/vnd.databricks.v1+notebook": {
   "dashboards": [],
   "environmentMetadata": null,
   "language": "python",
   "notebookMetadata": {
    "pythonIndentUnit": 4
   },
   "notebookName": "Coding Challenge Pyspark",
   "widgets": {}
  }
 },
 "nbformat": 4,
 "nbformat_minor": 0
}
